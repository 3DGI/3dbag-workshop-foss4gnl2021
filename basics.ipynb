{
 "cells": [
  {
   "cell_type": "markdown",
   "source": [
    "# The basics of CityJSON in Python\n",
    "\n",
    "In this tutorial we explore what is possible with `cjio`'s Command Line Interface (CLI)\n",
    "and intorduce `cjio`'s Application Programming Interface (API).\n",
    "\n",
    "The CLI is what you use when you invoke `cjio` from the command line, such as:\n",
    "```\n",
    "$ cjio some_city_model.json info\n",
    "```\n",
    "\n",
    "The API is what you use from `cjio` when working with a city model in a Python script,\n",
    "and load a cityjson file with the `cityjson.load()` method."
   ],
   "metadata": {
    "collapsed": false,
    "pycharm": {
     "name": "#%% md\n"
    }
   }
  },
  {
   "cell_type": "markdown",
   "source": [
    "## CLI\n",
    "\n",
    "The primary source of information on using the CLI is its help menu. It will list all\n",
    "of the available *commands* and describes how to use them. For instance the\n",
    "`subset` command."
   ],
   "metadata": {
    "collapsed": false,
    "pycharm": {
     "name": "#%% md\n"
    }
   }
  },
  {
   "cell_type": "code",
   "execution_count": 1,
   "outputs": [
    {
     "name": "stdout",
     "output_type": "stream",
     "text": [
      "Usage: cjio [OPTIONS] INPUT COMMAND1 [ARGS]... [COMMAND2 [ARGS]...]...\r\n",
      "\r\n",
      "  Process and manipulate a CityJSON file, and allow different outputs. The\r\n",
      "  different operators can be chained to perform several processing in one\r\n",
      "  step, the CityJSON model goes through the different operators.\r\n",
      "\r\n",
      "  To get help on specific command, eg for 'validate':\r\n",
      "\r\n",
      "      cjio validate --help\r\n",
      "\r\n",
      "  Usage examples:\r\n",
      "\r\n",
      "      cjio example.json info validate\r\n",
      "      cjio example.json assign_epsg 7145 remove_textures export output.obj\r\n",
      "      cjio example.json subset --id house12 save out.json\r\n",
      "\r\n",
      "Options:\r\n",
      "  --version                Show the version and exit.\r\n",
      "  --ignore_duplicate_keys  Load a CityJSON file even if some City Objects have\r\n",
      "                           the same IDs (technically invalid file)\r\n",
      "\r\n",
      "  --help                   Show this message and exit.\r\n",
      "\r\n",
      "Commands:\r\n",
      "  assign_epsg                Assign a (new) EPSG.\r\n",
      "  clean                      Clean = remove_duplicate_vertices +...\r\n",
      "  compress                   Compress a CityJSON file, ie stores its...\r\n",
      "  decompress                 Decompress a CityJSON file, ie remove the...\r\n",
      "  export                     Export the CityJSON to another format.\r\n",
      "  extract_lod                Extract only one LoD for a dataset.\r\n",
      "  get_metadata               Shows the metadata of this dataset.\r\n",
      "  info                       Output info in simple JSON.\r\n",
      "  locate_textures            Output the location of the texture files.\r\n",
      "  merge                      Merge the current CityJSON with others.\r\n",
      "  remove_duplicate_vertices  Remove duplicate vertices a CityJSON file.\r\n",
      "  remove_materials           Remove all materials from a CityJSON file.\r\n",
      "  remove_orphan_vertices     Remove orphan vertices a CityJSON file.\r\n",
      "  remove_textures            Remove all textures from a CityJSON file.\r\n",
      "  reproject                  Reproject the CityJSON to a new EPSG.\r\n",
      "  save                       Save the city model to a CityJSON file.\r\n",
      "  subset                     Create a subset of a CityJSON file.\r\n",
      "  translate                  Translate the file by its (-minx, -miny,...\r\n",
      "  update_metadata            Update the metadata for properties/values that...\r\n",
      "  update_textures            Update the location of the texture files.\r\n",
      "  upgrade_version            Upgrade the CityJSON to the latest version.\r\n",
      "  validate                   Validate the CityJSON file: (1) against its...\r\n"
     ]
    }
   ],
   "source": [
    "! cjio --help"
   ],
   "metadata": {
    "collapsed": false,
    "pycharm": {
     "name": "#%%\n"
    }
   }
  },
  {
   "cell_type": "markdown",
   "source": [
    "Most of the commands have detailed descriptions and *options*, which you can view with the help\n",
    "menu of the particular command."
   ],
   "metadata": {
    "collapsed": false,
    "pycharm": {
     "name": "#%% md\n"
    }
   }
  },
  {
   "cell_type": "code",
   "execution_count": 2,
   "outputs": [
    {
     "name": "stdout",
     "output_type": "stream",
     "text": [
      "Usage: cjio subset [OPTIONS]\r\n",
      "\r\n",
      "  Create a subset of a CityJSON file. One can select City Objects by (1) IDs\r\n",
      "  of City Objects; (2) bbox; (3) City Object type; (4) randomly.\r\n",
      "\r\n",
      "  These can be combined, except random which overwrites others.\r\n",
      "\r\n",
      "  Option '--exclude' excludes the selected objects, or \"reverse\" the\r\n",
      "  selection.\r\n",
      "\r\n",
      "Options:\r\n",
      "  --id TEXT                       The ID of the City Objects; can be used\r\n",
      "                                  multiple times.\r\n",
      "\r\n",
      "  --bbox FLOAT...                 2D bbox: (minx miny maxx maxy).\r\n",
      "  --random INTEGER                Number of random City Objects to select.\r\n",
      "  --cotype [Building|Bridge|Road|TransportSquare|LandUse|Railway|TINRelief|WaterBody|PlantCover|SolitaryVegetationObject|CityFurniture|GenericCityObject|Tunnel]\r\n",
      "                                  The City Object type\r\n",
      "  --exclude                       Excludes the selection, thus delete the\r\n",
      "                                  selected object(s).\r\n",
      "\r\n",
      "  --help                          Show this message and exit.\r\n"
     ]
    }
   ],
   "source": [
    "! cjio subset --help"
   ],
   "metadata": {
    "collapsed": false,
    "pycharm": {
     "name": "#%%\n"
    }
   }
  },
  {
   "cell_type": "markdown",
   "source": [
    "### Pipelines of commands\n",
    "\n",
    "The cjio commands can be chained, creating a pipeline. The input citymodel is passed\n",
    "from left to right, each command reading the output of the previous command.\n",
    "\n",
    "Commands like `info` and `validate` output information in the console and just\n",
    "pass the 3D city model to the next command. Other commands like `assign_epsg` and\n",
    "`subset` modify the city model."
   ],
   "metadata": {
    "collapsed": false,
    "pycharm": {
     "name": "#%% md\n"
    }
   }
  },
  {
   "cell_type": "code",
   "execution_count": 3,
   "outputs": [
    {
     "name": "stdout",
     "output_type": "stream",
     "text": [
      "\u001B[30m\u001B[46mParsing data/sample.json\u001B[0m\r\n",
      "\u001B[30m\u001B[46mExtract LoD:1.3\u001B[0m\r\n",
      "\u001B[30m\u001B[46mSubset of CityJSON\u001B[0m\r\n",
      "{\r\n",
      "  \"cityjson_version\": \"1.0\",\r\n",
      "  \"epsg\": 7415,\r\n",
      "  \"bbox\": [\r\n",
      "    76538.049,\r\n",
      "    451859.682,\r\n",
      "    0.266,\r\n",
      "    76555.762,\r\n",
      "    451874.674,\r\n",
      "    11.216000000000001\r\n",
      "  ],\r\n",
      "  \"transform/compressed\": true,\r\n",
      "  \"cityobjects_total\": 1,\r\n",
      "  \"cityobjects_present\": [\r\n",
      "    \"Building\",\r\n",
      "    \"BuildingPart\"\r\n",
      "  ],\r\n",
      "  \"materials\": false,\r\n",
      "  \"textures\": false,\r\n",
      "  \"vertices_total\": 108,\r\n",
      "  \"geom_primitives_present\": [\r\n",
      "    \"Solid\"\r\n",
      "  ],\r\n",
      "  \"level_of_detail\": [\r\n",
      "    1.3\r\n",
      "  ],\r\n",
      "  \"semantics_surfaces_present\": [\r\n",
      "    \"WallSurface\",\r\n",
      "    \"RoofSurface\",\r\n",
      "    \"GroundSurface\"\r\n",
      "  ],\r\n",
      "  \"cityobject_attributes\": [\r\n",
      "    \"h_dak_50p\",\r\n",
      "    \"status\",\r\n",
      "    \"h_dak_min\",\r\n",
      "    \"kas_warenhuis\",\r\n",
      "    \"h_maaiveld\",\r\n",
      "    \"ondergronds_type\",\r\n",
      "    \"oorspronkelijkbouwjaar\",\r\n",
      "    \"pw_bron\",\r\n",
      "    \"val3dity_codes_lod12\",\r\n",
      "    \"reconstruction_skipped\",\r\n",
      "    \"reconstructie_methode\",\r\n",
      "    \"rmse_lod13\",\r\n",
      "    \"data_coverage\",\r\n",
      "    \"lod11_replace\",\r\n",
      "    \"geconstateerd\",\r\n",
      "    \"h_dak_max\",\r\n",
      "    \"val3dity_codes_lod13\",\r\n",
      "    \"rmse_lod12\",\r\n",
      "    \"val3dity_codes_lod22\",\r\n",
      "    \"data_area\",\r\n",
      "    \"h_dak_70p\",\r\n",
      "    \"rmse_lod22\",\r\n",
      "    \"t_run\",\r\n",
      "    \"gid\",\r\n",
      "    \"documentnummer\",\r\n",
      "    \"rn\",\r\n",
      "    \"voorkomenidentificatie\",\r\n",
      "    \"pw_actueel\",\r\n",
      "    \"dak_type\",\r\n",
      "    \"identificatie\"\r\n",
      "  ]\r\n",
      "}\r\n"
     ]
    }
   ],
   "source": [
    "! cjio data/sample.json extract_lod 1.3 subset --id \"NL.IMBAG.Pand.0518100000285075\" info --long"
   ],
   "metadata": {
    "collapsed": false,
    "pycharm": {
     "name": "#%%\n"
    }
   }
  },
  {
   "cell_type": "markdown",
   "source": [
    "### Don't forget to save\n",
    "\n",
    "No matter what command or pipeline you use, `cjio` doesn't save the result, unless\n",
    "you add the `save` command at the end. The `save` command is a special one, because\n",
    "it's a terminal operator, which means that it needs to stand at the end of the pipeline.\n",
    "At the moment (v0.6.10) it is not possible to save intermediate states from the\n",
    "pipeline."
   ],
   "metadata": {
    "collapsed": false,
    "pycharm": {
     "name": "#%% md\n"
    }
   }
  },
  {
   "cell_type": "markdown",
   "source": [
    "## CityJSON in Python without cjio\n",
    "\n",
    "It is fully possible to work with 3D city models from CityJSON files in Python without\n",
    "`cjio`'s API. In fact, this is how the CLI commands are implemented. To see it practice,\n",
    " browse through `cjio`'s source code, particularly the `cityjson` and `cjio` modules in\n",
    " https://github.com/cityjson/cjio .\n",
    "\n",
    "As CityJSON files are just regular json files, you only need the python standard\n",
    "libraries and some knowledge of the [CityJSON schema](https://www.cityjson.org/specs/latest) to get going."
   ],
   "metadata": {
    "collapsed": false,
    "pycharm": {
     "name": "#%% md\n"
    }
   }
  },
  {
   "cell_type": "code",
   "execution_count": 4,
   "outputs": [
    {
     "name": "stdout",
     "output_type": "stream",
     "text": [
      "Found CityObject NL.IMBAG.Pand.0518100000285075 of type Building\n",
      "Found CityObject NL.IMBAG.Pand.0518100000285075-0 of type BuildingPart\n",
      "Found CityObject NL.IMBAG.Pand.0518100000346770 of type Building\n",
      "Found CityObject NL.IMBAG.Pand.0518100000269458 of type Building\n",
      "Found CityObject NL.IMBAG.Pand.0518100000346770-0 of type BuildingPart\n",
      "Found CityObject NL.IMBAG.Pand.0518100000269458-0 of type BuildingPart\n"
     ]
    }
   ],
   "source": [
    "import json\n",
    "from pathlib import Path\n",
    "\n",
    "with (Path(\"data\") / \"sample.json\").resolve().open(\"r\") as fo:\n",
    "    cm = json.load(fo)\n",
    "\n",
    "for co_id, co in cm[\"CityObjects\"].items():\n",
    "    print(f\"Found CityObject {co_id} of type {co['type']}\")"
   ],
   "metadata": {
    "collapsed": false,
    "pycharm": {
     "name": "#%%\n"
    }
   }
  },
  {
   "cell_type": "markdown",
   "source": [
    "## API intro\n",
    "\n",
    "cjio was developed as a CLI tool for manipulating complete citymodels from CityJSON\n",
    "files. The initial goal was to test how simple is it to work with CityJSON in python,\n",
    "using only the standard libraries.\n",
    "\n",
    "The API was developed after the CLI was written, and it was only an afterthought.\n",
    "The API is meant to provide functions that make it even easier to work on citymodels,\n",
    "individual CityObjects in particular, from within python applications.\n",
    "\n",
    "Therefore, there the integration between the API and CLI is not very tight at the\n",
    "moment (v0.6.10).\n",
    "\n",
    "Both CLI and API uses the `cjio.cityjson.CityJSON` class to store a city model. However, the\n",
    "CLI loads the data from the cityjson file into the `CityJSON.j` class member, following\n",
    "the cityjson schema exactly.\n",
    "On the other hand, the API reads the contents of `CityJSON.j` and populates the\n",
    "`CityJSON.cityobjects` class member with the CityObject data from the citymodel.\n",
    "In this process, instances of `cjio.models.CityObject` and `cjio.models.Geometry` are\n",
    "created to store the cityobject's data, including their geometry. In other words,\n",
    "each `CityObject` in `CityJSON.cityobjects` stores its complete geometry with their\n",
    "coordinates.\n",
    "\n",
    "It is possible to use the CLI methods \"from the API\", since both of them utilizes the\n",
    "common `CityJSON` class. However, if the citymodel was modified via the API methods,\n",
    "then the data in `CityJSON.j` needs to be updated before calling any CLI method.\n",
    "To do this, call the `CityJSON.add_to_j` method. See this in practice in the\n",
    "[download](download.ipynb) tutorial."
   ],
   "metadata": {
    "collapsed": false,
    "pycharm": {
     "name": "#%% md\n"
    }
   }
  },
  {
   "cell_type": "markdown",
   "source": [
    "The functions for loading and exporting from the API are `cjio.cityjson.load` and\n",
    "`cjio.cityjson.save`."
   ],
   "metadata": {
    "collapsed": false,
    "pycharm": {
     "name": "#%% md\n"
    }
   }
  },
  {
   "cell_type": "code",
   "execution_count": 5,
   "outputs": [
    {
     "name": "stdout",
     "output_type": "stream",
     "text": [
      "Found CityObject NL.IMBAG.Pand.0518100000285075 of type Building and instance of <class 'cjio.models.CityObject'>\n",
      "Found CityObject NL.IMBAG.Pand.0518100000285075-0 of type BuildingPart and instance of <class 'cjio.models.CityObject'>\n",
      "Found CityObject NL.IMBAG.Pand.0518100000346770 of type Building and instance of <class 'cjio.models.CityObject'>\n",
      "Found CityObject NL.IMBAG.Pand.0518100000269458 of type Building and instance of <class 'cjio.models.CityObject'>\n",
      "Found CityObject NL.IMBAG.Pand.0518100000346770-0 of type BuildingPart and instance of <class 'cjio.models.CityObject'>\n",
      "Found CityObject NL.IMBAG.Pand.0518100000269458-0 of type BuildingPart and instance of <class 'cjio.models.CityObject'>\n"
     ]
    }
   ],
   "source": [
    "from cjio import cityjson\n",
    "\n",
    "p = (Path(\"data\") / \"sample.json\").resolve()\n",
    "cm = cityjson.load(path=p)\n",
    "\n",
    "for co_id, co in cm.cityobjects.items():\n",
    "    print(f\"Found CityObject {co_id} of type {co.type} and instance of {type(co)}\")\n",
    "\n",
    "cityjson.save(citymodel=cm, path=\"outfile.json\")"
   ],
   "metadata": {
    "collapsed": false,
    "pycharm": {
     "name": "#%%\n"
    }
   }
  },
  {
   "cell_type": "markdown",
   "source": [
    "We can print the basic information about the city model.\n",
    "Note that `print()` returns the same information as the `info` command in the CLI."
   ],
   "metadata": {
    "collapsed": false,
    "pycharm": {
     "name": "#%% md\n"
    }
   }
  },
  {
   "cell_type": "code",
   "execution_count": 6,
   "outputs": [
    {
     "name": "stdout",
     "output_type": "stream",
     "text": [
      "{\n",
      "  \"cityjson_version\": \"1.0\",\n",
      "  \"epsg\": 7415,\n",
      "  \"bbox\": [\n",
      "    76538.049,\n",
      "    451765.646,\n",
      "    0.0,\n",
      "    76614.34999999999,\n",
      "    451874.674,\n",
      "    11.987\n",
      "  ],\n",
      "  \"transform/compressed\": true,\n",
      "  \"cityobjects_total\": 3,\n",
      "  \"cityobjects_present\": [\n",
      "    \"Building\",\n",
      "    \"BuildingPart\"\n",
      "  ],\n",
      "  \"materials\": false,\n",
      "  \"textures\": false\n",
      "}\n"
     ]
    }
   ],
   "source": [
    "print(cm)"
   ],
   "metadata": {
    "collapsed": false,
    "pycharm": {
     "name": "#%%\n"
    }
   }
  },
  {
   "cell_type": "markdown",
   "source": [
    "`print()` also works for CityObjects."
   ],
   "metadata": {
    "collapsed": false,
    "pycharm": {
     "name": "#%% md\n"
    }
   }
  },
  {
   "cell_type": "code",
   "execution_count": 7,
   "outputs": [
    {
     "name": "stdout",
     "output_type": "stream",
     "text": [
      "{\n",
      "  \"id\": \"NL.IMBAG.Pand.0518100000269458-0\",\n",
      "  \"type\": \"BuildingPart\",\n",
      "  \"attributes\": {},\n",
      "  \"children\": [],\n",
      "  \"parents\": [\n",
      "    \"NL.IMBAG.Pand.0518100000269458\"\n",
      "  ],\n",
      "  \"geometry_type\": [\n",
      "    \"Solid\"\n",
      "  ],\n",
      "  \"geometry_lod\": [\n",
      "    1.2,\n",
      "    2.2,\n",
      "    1.3\n",
      "  ],\n",
      "  \"semantic_surfaces\": [\n",
      "    \"RoofSurface\",\n",
      "    \"GroundSurface\",\n",
      "    \"WallSurface\"\n",
      "  ]\n",
      "}\n"
     ]
    }
   ],
   "source": [
    "print(co)"
   ],
   "metadata": {
    "collapsed": false,
    "pycharm": {
     "name": "#%%\n"
    }
   }
  },
  {
   "cell_type": "markdown",
   "source": [
    "Using the CLI methods, like `validate`. At the moment, the best if you browse the\n",
    "source code of the [`cjio.cityjson.CityJSON` class](https://github.com/cityjson/cjio/blob/master/cjio/cityjson.py) to see how these methods work."
   ],
   "metadata": {
    "collapsed": false,
    "pycharm": {
     "name": "#%% md\n"
    }
   }
  },
  {
   "cell_type": "code",
   "execution_count": 8,
   "outputs": [
    {
     "name": "stdout",
     "output_type": "stream",
     "text": [
      "-- Validating the syntax of the file\n",
      "\t(using the schemas 1.0.1)\n",
      "-- Validating the internal consistency of the file (see docs for list)\n",
      "\t--Vertex indices coherent\n",
      "\t--Specific for CityGroups\n",
      "\t--Semantic arrays coherent with geometry\n",
      "\t--Root properties\n",
      "\t--Empty geometries\n",
      "\t--Duplicate vertices\n",
      "\t--Orphan vertices\n",
      "\t--CityGML attributes\n",
      "\n",
      "The city model is valid: True\n"
     ]
    }
   ],
   "source": [
    "is_valid, wo_warnings, error_strings, warning_strings =  cm.validate()\n",
    "print(f\"\\nThe city model is valid: {is_valid}\")"
   ],
   "metadata": {
    "collapsed": false,
    "pycharm": {
     "name": "#%%\n"
    }
   }
  },
  {
   "cell_type": "markdown",
   "source": [
    "### Export to pandas DataFrame\n",
    "\n",
    "It is possible to export the city model into a pandas DataFrame. Note that only the CityObject attributes are exported into the dataframe, with CityObject IDs as the index of the dataframe. Thus if you want to export the attributes of SemanticSurfaces for example, then you need to add them as CityObject attributes."
   ],
   "metadata": {
    "collapsed": false,
    "pycharm": {
     "name": "#%% md\n"
    }
   }
  },
  {
   "cell_type": "code",
   "execution_count": 9,
   "outputs": [
    {
     "data": {
      "text/plain": "                                    dak_type   data_area  data_coverage  \\\nNL.IMBAG.Pand.0518100000285075       slanted  139.142502       0.938708   \nNL.IMBAG.Pand.0518100000285075-0         NaN         NaN            NaN   \nNL.IMBAG.Pand.0518100000346770       slanted   42.092503       0.872392   \nNL.IMBAG.Pand.0518100000269458    horizontal    1.997500       0.248667   \nNL.IMBAG.Pand.0518100000346770-0         NaN         NaN            NaN   \n\n                                 documentnummer geconstateerd         gid  \\\nNL.IMBAG.Pand.0518100000285075    FV20101220-04         False  17625148.0   \nNL.IMBAG.Pand.0518100000285075-0            NaN           NaN         NaN   \nNL.IMBAG.Pand.0518100000346770    FV20101220-04         False   9075761.0   \nNL.IMBAG.Pand.0518100000269458    FP20101220-03         False    613043.0   \nNL.IMBAG.Pand.0518100000346770-0            NaN           NaN         NaN   \n\n                                  h_dak_50p  h_dak_70p  h_dak_max  h_dak_min  \\\nNL.IMBAG.Pand.0518100000285075       10.750     11.216     12.053      3.152   \nNL.IMBAG.Pand.0518100000285075-0        NaN        NaN        NaN        NaN   \nNL.IMBAG.Pand.0518100000346770        7.771      8.355      9.144      0.725   \nNL.IMBAG.Pand.0518100000269458        2.882      2.896      2.951      2.816   \nNL.IMBAG.Pand.0518100000346770-0        NaN        NaN        NaN        NaN   \n\n                                  ...  rmse_lod12 rmse_lod13 rmse_lod22   rn  \\\nNL.IMBAG.Pand.0518100000285075    ...    1.386077   1.092674   0.123877  1.0   \nNL.IMBAG.Pand.0518100000285075-0  ...         NaN        NaN        NaN  NaN   \nNL.IMBAG.Pand.0518100000346770    ...    1.492180   1.376112   0.585438  1.0   \nNL.IMBAG.Pand.0518100000269458    ...    0.035785   0.032785   0.030866  1.0   \nNL.IMBAG.Pand.0518100000346770-0  ...         NaN        NaN        NaN  NaN   \n\n                                           status       t_run  \\\nNL.IMBAG.Pand.0518100000285075    Pand in gebruik  316.475006   \nNL.IMBAG.Pand.0518100000285075-0              NaN         NaN   \nNL.IMBAG.Pand.0518100000346770    Pand in gebruik  109.615997   \nNL.IMBAG.Pand.0518100000269458    Pand in gebruik   36.872002   \nNL.IMBAG.Pand.0518100000346770-0              NaN         NaN   \n\n                                 val3dity_codes_lod12 val3dity_codes_lod13  \\\nNL.IMBAG.Pand.0518100000285075                     []                   []   \nNL.IMBAG.Pand.0518100000285075-0                  NaN                  NaN   \nNL.IMBAG.Pand.0518100000346770                     []                   []   \nNL.IMBAG.Pand.0518100000269458                     []                   []   \nNL.IMBAG.Pand.0518100000346770-0                  NaN                  NaN   \n\n                                 val3dity_codes_lod22 voorkomenidentificatie  \nNL.IMBAG.Pand.0518100000285075                     []                    1.0  \nNL.IMBAG.Pand.0518100000285075-0                  NaN                    NaN  \nNL.IMBAG.Pand.0518100000346770                     []                    1.0  \nNL.IMBAG.Pand.0518100000269458                     []                    1.0  \nNL.IMBAG.Pand.0518100000346770-0                  NaN                    NaN  \n\n[5 rows x 30 columns]",
      "text/html": "<div>\n<style scoped>\n    .dataframe tbody tr th:only-of-type {\n        vertical-align: middle;\n    }\n\n    .dataframe tbody tr th {\n        vertical-align: top;\n    }\n\n    .dataframe thead th {\n        text-align: right;\n    }\n</style>\n<table border=\"1\" class=\"dataframe\">\n  <thead>\n    <tr style=\"text-align: right;\">\n      <th></th>\n      <th>dak_type</th>\n      <th>data_area</th>\n      <th>data_coverage</th>\n      <th>documentnummer</th>\n      <th>geconstateerd</th>\n      <th>gid</th>\n      <th>h_dak_50p</th>\n      <th>h_dak_70p</th>\n      <th>h_dak_max</th>\n      <th>h_dak_min</th>\n      <th>...</th>\n      <th>rmse_lod12</th>\n      <th>rmse_lod13</th>\n      <th>rmse_lod22</th>\n      <th>rn</th>\n      <th>status</th>\n      <th>t_run</th>\n      <th>val3dity_codes_lod12</th>\n      <th>val3dity_codes_lod13</th>\n      <th>val3dity_codes_lod22</th>\n      <th>voorkomenidentificatie</th>\n    </tr>\n  </thead>\n  <tbody>\n    <tr>\n      <th>NL.IMBAG.Pand.0518100000285075</th>\n      <td>slanted</td>\n      <td>139.142502</td>\n      <td>0.938708</td>\n      <td>FV20101220-04</td>\n      <td>False</td>\n      <td>17625148.0</td>\n      <td>10.750</td>\n      <td>11.216</td>\n      <td>12.053</td>\n      <td>3.152</td>\n      <td>...</td>\n      <td>1.386077</td>\n      <td>1.092674</td>\n      <td>0.123877</td>\n      <td>1.0</td>\n      <td>Pand in gebruik</td>\n      <td>316.475006</td>\n      <td>[]</td>\n      <td>[]</td>\n      <td>[]</td>\n      <td>1.0</td>\n    </tr>\n    <tr>\n      <th>NL.IMBAG.Pand.0518100000285075-0</th>\n      <td>NaN</td>\n      <td>NaN</td>\n      <td>NaN</td>\n      <td>NaN</td>\n      <td>NaN</td>\n      <td>NaN</td>\n      <td>NaN</td>\n      <td>NaN</td>\n      <td>NaN</td>\n      <td>NaN</td>\n      <td>...</td>\n      <td>NaN</td>\n      <td>NaN</td>\n      <td>NaN</td>\n      <td>NaN</td>\n      <td>NaN</td>\n      <td>NaN</td>\n      <td>NaN</td>\n      <td>NaN</td>\n      <td>NaN</td>\n      <td>NaN</td>\n    </tr>\n    <tr>\n      <th>NL.IMBAG.Pand.0518100000346770</th>\n      <td>slanted</td>\n      <td>42.092503</td>\n      <td>0.872392</td>\n      <td>FV20101220-04</td>\n      <td>False</td>\n      <td>9075761.0</td>\n      <td>7.771</td>\n      <td>8.355</td>\n      <td>9.144</td>\n      <td>0.725</td>\n      <td>...</td>\n      <td>1.492180</td>\n      <td>1.376112</td>\n      <td>0.585438</td>\n      <td>1.0</td>\n      <td>Pand in gebruik</td>\n      <td>109.615997</td>\n      <td>[]</td>\n      <td>[]</td>\n      <td>[]</td>\n      <td>1.0</td>\n    </tr>\n    <tr>\n      <th>NL.IMBAG.Pand.0518100000269458</th>\n      <td>horizontal</td>\n      <td>1.997500</td>\n      <td>0.248667</td>\n      <td>FP20101220-03</td>\n      <td>False</td>\n      <td>613043.0</td>\n      <td>2.882</td>\n      <td>2.896</td>\n      <td>2.951</td>\n      <td>2.816</td>\n      <td>...</td>\n      <td>0.035785</td>\n      <td>0.032785</td>\n      <td>0.030866</td>\n      <td>1.0</td>\n      <td>Pand in gebruik</td>\n      <td>36.872002</td>\n      <td>[]</td>\n      <td>[]</td>\n      <td>[]</td>\n      <td>1.0</td>\n    </tr>\n    <tr>\n      <th>NL.IMBAG.Pand.0518100000346770-0</th>\n      <td>NaN</td>\n      <td>NaN</td>\n      <td>NaN</td>\n      <td>NaN</td>\n      <td>NaN</td>\n      <td>NaN</td>\n      <td>NaN</td>\n      <td>NaN</td>\n      <td>NaN</td>\n      <td>NaN</td>\n      <td>...</td>\n      <td>NaN</td>\n      <td>NaN</td>\n      <td>NaN</td>\n      <td>NaN</td>\n      <td>NaN</td>\n      <td>NaN</td>\n      <td>NaN</td>\n      <td>NaN</td>\n      <td>NaN</td>\n      <td>NaN</td>\n    </tr>\n  </tbody>\n</table>\n<p>5 rows × 30 columns</p>\n</div>"
     },
     "execution_count": 9,
     "metadata": {},
     "output_type": "execute_result"
    }
   ],
   "source": [
    "cm_df = cm.to_dataframe()\n",
    "cm_df.head()"
   ],
   "metadata": {
    "collapsed": false,
    "pycharm": {
     "name": "#%%\n"
    }
   }
  }
 ],
 "metadata": {
  "kernelspec": {
   "display_name": "Python 3",
   "language": "python",
   "name": "python3"
  },
  "language_info": {
   "codemirror_mode": {
    "name": "ipython",
    "version": 2
   },
   "file_extension": ".py",
   "mimetype": "text/x-python",
   "name": "python",
   "nbconvert_exporter": "python",
   "pygments_lexer": "ipython2",
   "version": "2.7.6"
  }
 },
 "nbformat": 4,
 "nbformat_minor": 0
}