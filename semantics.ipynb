{
 "cells": [
  {
   "cell_type": "markdown",
   "metadata": {
    "collapsed": true,
    "pycharm": {
     "name": "#%% md\n"
    }
   },
   "source": [
    "# Create new semantic surfaces\n",
    "\n",
    "In this tutorial we create new semantic surfaces for CityObjects to store the surface\n",
    "properties, such as the surface orientation."
   ]
  },
  {
   "cell_type": "code",
   "execution_count": 1,
   "outputs": [],
   "source": [
    "from pathlib import Path\n",
    "from random import choice\n",
    "from copy import deepcopy\n",
    "from cjio import cityjson"
   ],
   "metadata": {
    "collapsed": false,
    "pycharm": {
     "name": "#%%\n"
    }
   }
  },
  {
   "cell_type": "markdown",
   "source": [
    "We load the citymodel and load a single building model. The one with ID\n",
    "`NL.IMBAG.Pand.0518100000346770` has a gable roof, a dormer and yet a relatively simple geometry. It's a good candidate for practice.\n",
    "\n",
    "For an even simpler model, try `NL.IMBAG.Pand.0518100000269458`, which has a shape of a\n",
    "cube."
   ],
   "metadata": {
    "collapsed": false,
    "pycharm": {
     "name": "#%% md\n"
    }
   }
  },
  {
   "cell_type": "code",
   "execution_count": 2,
   "outputs": [
    {
     "name": "stdout",
     "output_type": "stream",
     "text": [
      "The CityObject NL.IMBAG.Pand.0518100000346770 of type Building has 1 children.\n",
      "They are: ['NL.IMBAG.Pand.0518100000346770-0'], of type BuildingPart\n"
     ]
    }
   ],
   "source": [
    "cm_path = (Path(\"data\") / \"sample.json\").resolve()\n",
    "cm = cityjson.load(cm_path, transform=True)\n",
    "\n",
    "cos = cm.get_cityobjects(id=\"NL.IMBAG.Pand.0518100000346770\")\n",
    "one = cos[\"NL.IMBAG.Pand.0518100000346770\"]\n",
    "\n",
    "one_children = cm.get_cityobjects(id=one.children)\n",
    "print(f\"The CityObject {one.id} of type {one.type} has {len(one.children)} children.\\n\"\n",
    "      f\"They are: {one.children}, of type {list(one_children.values())[0].type}\")\n",
    "one_bpart = one_children[\"NL.IMBAG.Pand.0518100000346770-0\"]"
   ],
   "metadata": {
    "collapsed": false,
    "pycharm": {
     "name": "#%%\n"
    }
   }
  },
  {
   "cell_type": "markdown",
   "source": [
    "Get a *reference* to the LoD2.2 geometry of the model. *Modifying this object will\n",
    "modify the citymodel itself*.\n",
    "\n",
    "---\n",
    "\n",
    "**Note**\n",
    "\n",
    "CityJSON (v1.0) requires that the `lod` attribute on the Geometry objects is numeric.\n",
    "But treating the LoD as a string is more straightforward, therefore the `lod` will\n",
    "becom a string with CityJSON v1.1.\n",
    "\n",
    "---"
   ],
   "metadata": {
    "collapsed": false,
    "pycharm": {
     "name": "#%% md\n"
    }
   }
  },
  {
   "cell_type": "code",
   "execution_count": 3,
   "outputs": [
    {
     "name": "stdout",
     "output_type": "stream",
     "text": [
      "Geometry has LoD 1.2\n",
      "Geometry has LoD 1.3\n",
      "Geometry has LoD 2.2\n"
     ]
    }
   ],
   "source": [
    "geom = None\n",
    "for g in one_bpart.geometry:\n",
    "    print(f\"Geometry has LoD {g.lod}\")\n",
    "    if str(g.lod) == \"2.2\":\n",
    "        geom = g\n",
    "assert geom is not None"
   ],
   "metadata": {
    "collapsed": false,
    "pycharm": {
     "name": "#%%\n"
    }
   }
  },
  {
   "cell_type": "markdown",
   "source": [
    "We want to calculate and assign the orientation to the WallSurfaces. The surface\n",
    "orientation is stored as a Semantic Object attribute. Since we define the orientation as\n",
    "`north`, `east`, `south`, `west`, we need a separate semantic object for each, so that\n",
    "we can store the distinct oritentations on them.\n",
    "\n",
    "The 3D BAG already has two types of WallSurfaces, differentiated by the `on_footprint_edge`\n",
    "attribute. This attribute indicates whether the wallsurface lies on the outer boundary\n",
    "of the footprint polygon. Surfaces with `on_footprint_edge: false` are walls of\n",
    "dormers, inner-towers etc.\n",
    "\n",
    "To make things simpler, we only going to work with the walls on the outer boundary."
   ],
   "metadata": {
    "collapsed": false,
    "pycharm": {
     "name": "#%% md\n"
    }
   }
  },
  {
   "cell_type": "markdown",
   "source": [
    "The method `get_surfaces` returns the Semantic Objects and their index.\n",
    "Such as:\n",
    "\n",
    "```\n",
    "{\n",
    "    'surface_idx': [[0, 1], [0, 2], [0, 3], ...],\n",
    "    'type': 'WallSurface',\n",
    "    'attributes': {'on_footprint_edge': True}\n",
    "}\n",
    "```\n",
    "\n",
    "This WallSurface is assigned to the surfaces with indices 1,2,3,... on the shell\n",
    "with index 0 (outer shell of the Solid).\n",
    "\n",
    "Additionally, in case there are unused Semantic Objects on the geometry\n",
    "(`surface_idx: None`), we need to remove those from the surfaces."
   ],
   "metadata": {
    "collapsed": false,
    "pycharm": {
     "name": "#%% md\n"
    }
   }
  },
  {
   "cell_type": "code",
   "execution_count": 4,
   "outputs": [
    {
     "name": "stdout",
     "output_type": "stream",
     "text": [
      "2 {'surface_idx': [[0, 1], [0, 2], [0, 3], [0, 4], [0, 5], [0, 6], [0, 7], [0, 8], [0, 9], [0, 10], [0, 11], [0, 12], [0, 15], [0, 16], [0, 17], [0, 20], [0, 21], [0, 22], [0, 23], [0, 24], [0, 25], [0, 26], [0, 27], [0, 30], [0, 31], [0, 33], [0, 34]], 'type': 'WallSurface', 'attributes': {'on_footprint_edge': True}}\n",
      "3 {'surface_idx': [[0, 13], [0, 14], [0, 18], [0, 19], [0, 28], [0, 29], [0, 32]], 'type': 'WallSurface', 'attributes': {'on_footprint_edge': False}}\n"
     ]
    }
   ],
   "source": [
    "wsrf = None # Semantic Object\n",
    "wsrf_idx = None # Semantic Object index\n",
    "for si, ws in geom.get_surfaces('wallsurface').items():\n",
    "    print(si, ws)\n",
    "    if ws[\"surface_idx\"] is None:\n",
    "        del geom.surfaces[si]\n",
    "    elif ws[\"attributes\"][\"on_footprint_edge\"]:\n",
    "        wsrf_idx, wsrf = si, ws\n",
    "assert wsrf is not None"
   ],
   "metadata": {
    "collapsed": false,
    "pycharm": {
     "name": "#%%\n"
    }
   }
  },
  {
   "cell_type": "markdown",
   "source": [
    "Get the boundary (==geometry) for each surface with this semantic definition. The\n",
    "method `get_surface_boundaries` returns a generator."
   ],
   "metadata": {
    "collapsed": false
   }
  },
  {
   "cell_type": "code",
   "execution_count": 5,
   "outputs": [],
   "source": [
    "boundaries = list(geom.get_surface_boundaries(wsrf))"
   ],
   "metadata": {
    "collapsed": false,
    "pycharm": {
     "name": "#%%\n"
    }
   }
  },
  {
   "cell_type": "markdown",
   "source": [
    "With the index of the boundary, we can get the index surface index that points back to\n",
    "the location of the surface in the complete geometry boundary array."
   ],
   "metadata": {
    "collapsed": false,
    "pycharm": {
     "name": "#%% md\n"
    }
   }
  },
  {
   "cell_type": "code",
   "execution_count": 6,
   "outputs": [
    {
     "name": "stdout",
     "output_type": "stream",
     "text": [
      "surface index: [0, 1], boundary geometry: [[(76614.302, 451767.126, 5.8580000000000005), (76614.302, 451767.126, 0.083), (76612.648, 451771.049, 0.083), (76612.648, 451771.049, 9.085)]]\n",
      "geometry boundary from the object: [[(76614.302, 451767.126, 5.8580000000000005), (76614.302, 451767.126, 0.083), (76612.648, 451771.049, 0.083), (76612.648, 451771.049, 9.085)]]\n",
      "surface index: [0, 2], boundary geometry: [[(76607.198, 451768.759, 9.106), (76607.198, 451768.759, 0.083), (76607.887, 451767.099, 0.083), (76607.887, 451767.099, 7.744)]]\n",
      "geometry boundary from the object: [[(76607.198, 451768.759, 9.106), (76607.198, 451768.759, 0.083), (76607.887, 451767.099, 0.083), (76607.887, 451767.099, 7.744)]]\n",
      "surface index: [0, 3], boundary geometry: [[(76611.26299999999, 451774.336, 6.394), (76611.26299999999, 451774.336, 0.083), (76610.984, 451774.998, 0.083), (76610.984, 451774.998, 5.852)]]\n",
      "geometry boundary from the object: [[(76611.26299999999, 451774.336, 6.394), (76611.26299999999, 451774.336, 0.083), (76610.984, 451774.998, 0.083), (76610.984, 451774.998, 5.852)]]\n"
     ]
    }
   ],
   "source": [
    "for i, bdry in enumerate(boundaries[:3]):\n",
    "    # Get the surface index\n",
    "    surface_idx = wsrf['surface_idx'][i]\n",
    "    print(f\"surface index: {surface_idx}, boundary geometry: {bdry}\")\n",
    "    # To illustrate how the surface index works, this is how we can get the boundary\n",
    "    # geometry directly from the Geometry object.\n",
    "    shell_idx = surface_idx[0] # Index of the shell within the Solid\n",
    "    srf_idx = surface_idx[1] # Index of the surface within the shell\n",
    "    print(f\"geometry boundary from the object: {geom.boundaries[shell_idx][srf_idx]}\")"
   ],
   "metadata": {
    "collapsed": false,
    "pycharm": {
     "name": "#%%\n"
    }
   }
  },
  {
   "cell_type": "markdown",
   "source": [
    "Create a template for the new WallSurface objects. We copy the existing attributes\n",
    "from the current WallSurface. We create a new semantic object for each of the\n",
    "orientations we use."
   ],
   "metadata": {
    "collapsed": false,
    "pycharm": {
     "name": "#%% md\n"
    }
   }
  },
  {
   "cell_type": "code",
   "execution_count": 7,
   "outputs": [],
   "source": [
    "orientations = [\"north\", \"east\", \"south\", \"west\"]\n",
    "new_surfaces = {}\n",
    "\n",
    "for o in orientations:\n",
    "    attr = deepcopy(wsrf.get(\"attributes\", {}))\n",
    "    attr[\"orientation\"] = o\n",
    "    new_surfaces[o] =  {\n",
    "        \"type\": \"WallSurface\",\n",
    "        \"surface_idx\": None,\n",
    "        \"attributes\": attr\n",
    "    }"
   ],
   "metadata": {
    "collapsed": false,
    "pycharm": {
     "name": "#%%\n"
    }
   }
  },
  {
   "cell_type": "markdown",
   "source": [
    "We need a function that computes the orientation of a surface. The surface geometry is\n",
    "stored as an array of points, `[(x, y, z), ...]`. For now, we just make a dummy function\n",
    "to return a random orientation."
   ],
   "metadata": {
    "collapsed": false,
    "pycharm": {
     "name": "#%% md\n"
    }
   }
  },
  {
   "cell_type": "code",
   "execution_count": 8,
   "outputs": [],
   "source": [
    "def orientation(surface_geom, orientations_options):\n",
    "    \"\"\"Calculate the surface orientation.\"\"\"\n",
    "    # TODO: These are random values for the sake of example. Need to implement it.\n",
    "    return choice(orientations_options)"
   ],
   "metadata": {
    "collapsed": false,
    "pycharm": {
     "name": "#%%\n"
    }
   }
  },
  {
   "cell_type": "markdown",
   "source": [
    "Loop through the wallsurface geometries, compute their orientation and add their index\n",
    "to the new semantic objects. If we did it well, every surface should have only one\n",
    "semantic assigned to it."
   ],
   "metadata": {
    "collapsed": false,
    "pycharm": {
     "name": "#%% md\n"
    }
   }
  },
  {
   "cell_type": "code",
   "execution_count": 9,
   "outputs": [],
   "source": [
    "for i, bdry in enumerate(boundaries):\n",
    "    ori = orientation(bdry, orientations)\n",
    "    if new_surfaces[ori][\"surface_idx\"]:\n",
    "        new_surfaces[ori][\"surface_idx\"].append(wsrf['surface_idx'][i])\n",
    "    else:\n",
    "        new_surfaces[ori][\"surface_idx\"] = [wsrf['surface_idx'][i], ]"
   ],
   "metadata": {
    "collapsed": false,
    "pycharm": {
     "name": "#%%\n"
    }
   }
  },
  {
   "cell_type": "markdown",
   "source": [
    "Also here we need to remove any unused Semantic Objects."
   ],
   "metadata": {
    "collapsed": false,
    "pycharm": {
     "name": "#%% md\n"
    }
   }
  },
  {
   "cell_type": "code",
   "execution_count": 10,
   "outputs": [],
   "source": [
    "for s in tuple(new_surfaces):\n",
    "    if new_surfaces[s][\"surface_idx\"] is None:\n",
    "        del new_surfaces[s]"
   ],
   "metadata": {
    "collapsed": false,
    "pycharm": {
     "name": "#%%\n"
    }
   }
  },
  {
   "cell_type": "markdown",
   "source": [
    "Once we have the new semantic surfaces, we need to update the surfaces on the Geometry.\n",
    "For this, we remove the one that we replaced (with index `wsrf_idx`), and add the new\n",
    "ones from `new_surfaces`. We need to ensure that the surface indices are a continuous\n",
    "sequence."
   ],
   "metadata": {
    "collapsed": false,
    "pycharm": {
     "name": "#%% md\n"
    }
   }
  },
  {
   "cell_type": "code",
   "execution_count": 11,
   "outputs": [],
   "source": [
    "del geom.surfaces[wsrf_idx]\n",
    "_n = {}\n",
    "for i, sem_obj in enumerate({**geom.surfaces, **new_surfaces}.values()):\n",
    "    _n[i] = sem_obj\n",
    "geom.surfaces = _n"
   ],
   "metadata": {
    "collapsed": false,
    "pycharm": {
     "name": "#%%\n"
    }
   }
  },
  {
   "cell_type": "markdown",
   "source": [
    "Save the updated model to a CityJSON file."
   ],
   "metadata": {
    "collapsed": false,
    "pycharm": {
     "name": "#%% md\n"
    }
   }
  },
  {
   "cell_type": "code",
   "execution_count": 12,
   "outputs": [],
   "source": [
    "cityjson.save(cm, \"outfile.json\", indent=True)"
   ],
   "metadata": {
    "collapsed": false,
    "pycharm": {
     "name": "#%%\n"
    }
   }
  },
  {
   "cell_type": "markdown",
   "source": [
    "## Explore further\n",
    "\n",
    "Here are some ideas to expand on this tutorial:\n",
    "\n",
    "+ Impelement the `orientation` function to compute the true surface orientation.\n",
    "+ Assign the orientation to all WallSurfaces, instead of only those with `on_footprint_edge: true`.\n",
    "+ Combine the steps and calculate the surface orientations for each cityobject in a citymodel."
   ],
   "metadata": {
    "collapsed": false,
    "pycharm": {
     "name": "#%% md\n"
    }
   }
  }
 ],
 "metadata": {
  "kernelspec": {
   "display_name": "Python 3",
   "language": "python",
   "name": "python3"
  },
  "language_info": {
   "codemirror_mode": {
    "name": "ipython",
    "version": 2
   },
   "file_extension": ".py",
   "mimetype": "text/x-python",
   "name": "python",
   "nbconvert_exporter": "python",
   "pygments_lexer": "ipython2",
   "version": "2.7.6"
  }
 },
 "nbformat": 4,
 "nbformat_minor": 0
}