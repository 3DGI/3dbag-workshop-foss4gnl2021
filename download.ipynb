{
 "cells": [
  {
   "cell_type": "markdown",
   "metadata": {
    "collapsed": true,
    "pycharm": {
     "name": "#%% md\n"
    }
   },
   "source": [
    "# Download the 3D BAG for your area\n",
    "\n",
    "In this tutorial we explore how to download CityJSON files from the 3D BAG for\n",
    "your area of interest (AOI).\n",
    "For this you'll need your AOI polygon as WKT. You can draw the polygon in QGIS, then\n",
    "get it's WKT with the *Get WKT* plugin, or via any other method."
   ]
  },
  {
   "cell_type": "code",
   "execution_count": 1,
   "outputs": [],
   "source": [
    "import json\n",
    "from pathlib import Path\n",
    "import csv\n",
    "import gzip\n",
    "import urllib\n",
    "\n",
    "from shapely import wkt\n",
    "from owslib.wfs import WebFeatureService\n",
    "from cjio import cityjson\n",
    "from shapely.geometry import Polygon as ShapelyPolygon\n",
    "from shapely.ops import unary_union"
   ],
   "metadata": {
    "collapsed": false,
    "pycharm": {
     "name": "#%%\n"
    }
   }
  },
  {
   "cell_type": "markdown",
   "source": [
    "Load our AOI from a CSV file, into a Shapely Polygon The CRS is EPSG:28992.\n"
   ],
   "metadata": {
    "collapsed": false,
    "pycharm": {
     "name": "#%% md\n"
    }
   }
  },
  {
   "cell_type": "code",
   "execution_count": 2,
   "outputs": [],
   "source": [
    "with (Path(\"data\") / \"aoi.csv\").resolve().open(\"r\") as fo:\n",
    "    wktreader = csv.reader(fo)\n",
    "    # Skip the header and read only the first row\n",
    "    aoi_wkt, _ = [(wkt, _id) for wkt, _id in wktreader][1]\n",
    "\n",
    "aoi_poly = wkt.loads(aoi_wkt)"
   ],
   "metadata": {
    "collapsed": false,
    "pycharm": {
     "name": "#%%\n"
    }
   }
  },
  {
   "cell_type": "markdown",
   "source": [
    "We use the latest avaliable 3D BAG version, `v210908_fd2cee53`.\n",
    "Additionally, we also need the URL of the 3D BAG WFS.\n",
    "Finally, the tile index is served on the `bag_tiles_3k` layer, `BAG3D_v2` namespace through the WFS."
   ],
   "metadata": {
    "collapsed": false,
    "pycharm": {
     "name": "#%% md\n"
    }
   }
  },
  {
   "cell_type": "code",
   "execution_count": 3,
   "outputs": [],
   "source": [
    "CITYJSON_URL = \"https://data.3dbag.nl/cityjson/v210908_fd2cee53/3dbag_v210908_fd2cee53_{TID}.json.gz\"\n",
    "WFS_URL = \"https://data.3dbag.nl/api/BAG3D_v2/wfs\"\n",
    "WFS_LAYER = \"BAG3D_v2:bag_tiles_3k\""
   ],
   "metadata": {
    "collapsed": false,
    "pycharm": {
     "name": "#%%\n"
    }
   }
  },
  {
   "cell_type": "markdown",
   "source": [
    "With OWSLib we can query the 3D BAG WFS and get a list of tile ID-s that intersect the\n",
    "boundig box or our AOI."
   ],
   "metadata": {
    "collapsed": false,
    "pycharm": {
     "name": "#%% md\n"
    }
   }
  },
  {
   "cell_type": "code",
   "execution_count": 4,
   "outputs": [],
   "source": [
    "def get_tile_ids(wfs_url, wfs_layer, bbox):\n",
    "    wfs11 = WebFeatureService(url=wfs_url, version='1.1.0')\n",
    "    response = wfs11.getfeature(typename=wfs_layer, bbox=bbox, srsname='urn:x-ogc:def:crs:EPSG:28992', outputFormat='json')\n",
    "\n",
    "    tiles = json.loads( response.read().decode('utf-8') )['features']\n",
    "    tile_ids = [ tile['properties']['tile_id'] for tile in tiles ]\n",
    "\n",
    "    return tile_ids"
   ],
   "metadata": {
    "collapsed": false,
    "pycharm": {
     "name": "#%%\n"
    }
   }
  },
  {
   "cell_type": "code",
   "execution_count": 5,
   "outputs": [],
   "source": [
    "tile_ids = get_tile_ids(WFS_URL, WFS_LAYER, aoi_poly.bounds)"
   ],
   "metadata": {
    "collapsed": false,
    "pycharm": {
     "name": "#%%\n"
    }
   }
  },
  {
   "cell_type": "markdown",
   "source": [
    "Once we have the tile IDs, download the cityjson files."
   ],
   "metadata": {
    "collapsed": false,
    "pycharm": {
     "name": "#%% md\n"
    }
   }
  },
  {
   "cell_type": "code",
   "execution_count": 6,
   "outputs": [],
   "source": [
    "def download_3dbag(tile_ids, tilesdir):\n",
    "    fnames = []\n",
    "    for tid in tile_ids:\n",
    "        url = CITYJSON_URL.format(TID=tid)\n",
    "        print(url)\n",
    "        fname = tilesdir / (tid + '.json')\n",
    "        try:\n",
    "            with urllib.request.urlopen(url) as response, open(fname, 'wb') as out_file:\n",
    "                data = response.read()  # a `bytes` object\n",
    "                out_file.write(gzip.decompress(data))\n",
    "                fnames.append(fname)\n",
    "        except urllib.error.HTTPError as err:\n",
    "            print(err)\n",
    "\n",
    "    return fnames"
   ],
   "metadata": {
    "collapsed": false,
    "pycharm": {
     "name": "#%%\n"
    }
   }
  },
  {
   "cell_type": "code",
   "execution_count": 7,
   "outputs": [
    {
     "name": "stdout",
     "output_type": "stream",
     "text": [
      "https://data.3dbag.nl/cityjson/v210908_fd2cee53/3dbag_v210908_fd2cee53_5785.json.gz\n",
      "https://data.3dbag.nl/cityjson/v210908_fd2cee53/3dbag_v210908_fd2cee53_5786.json.gz\n"
     ]
    }
   ],
   "source": [
    "filenames = download_3dbag(tile_ids, Path(\"data\").resolve())"
   ],
   "metadata": {
    "collapsed": false,
    "pycharm": {
     "name": "#%%\n"
    }
   }
  },
  {
   "cell_type": "markdown",
   "source": [
    "Load the files from `filenames` and merge them into a single model."
   ],
   "metadata": {
    "collapsed": false,
    "pycharm": {
     "name": "#%% md\n"
    }
   }
  },
  {
   "cell_type": "code",
   "execution_count": 8,
   "outputs": [
    {
     "name": "stdout",
     "output_type": "stream",
     "text": [
      "Loaded a citymodel with 2265 CityObjects\n",
      "Loaded a citymodel with 2622 CityObjects\n"
     ]
    },
    {
     "data": {
      "text/plain": "True"
     },
     "execution_count": 8,
     "metadata": {},
     "output_type": "execute_result"
    }
   ],
   "source": [
    "# Take the first model as base\n",
    "cm = cityjson.load(filenames[0])\n",
    "print(f\"Loaded a citymodel with {len(cm.cityobjects)} CityObjects\")\n",
    "# Read the rest\n",
    "cms = []\n",
    "for p in filenames[1:]:\n",
    "    _cm = cityjson.load(p, transform=True)\n",
    "    cms.append(_cm)\n",
    "    print(f\"Loaded a citymodel with {len(_cm.cityobjects)} CityObjects\")\n",
    "# Merge\n",
    "cm.merge(cms)"
   ],
   "metadata": {
    "collapsed": false,
    "pycharm": {
     "name": "#%%\n"
    }
   }
  },
  {
   "cell_type": "markdown",
   "source": [
    "The method `load_from_j` is required after using the CLI methods via the API,\n",
    "because the CLI methods only affect the `j` member of the CityJSON object.\n",
    "So the contents of `j` need to be loaded back to the API members."
   ],
   "metadata": {
    "collapsed": false,
    "pycharm": {
     "name": "#%% md\n"
    }
   }
  },
  {
   "cell_type": "code",
   "execution_count": 9,
   "outputs": [],
   "source": [
    "cm.load_from_j()"
   ],
   "metadata": {
    "collapsed": false,
    "pycharm": {
     "name": "#%%\n"
    }
   }
  },
  {
   "cell_type": "markdown",
   "source": [
    "Verify that we have the correct number of CityObjects."
   ],
   "metadata": {
    "collapsed": false,
    "pycharm": {
     "name": "#%% md\n"
    }
   }
  },
  {
   "cell_type": "code",
   "execution_count": 10,
   "outputs": [
    {
     "name": "stdout",
     "output_type": "stream",
     "text": [
      "Nr. of cityobjects: 4887\n"
     ]
    }
   ],
   "source": [
    "print(f\"Nr. of cityobjects: {len(cm.cityobjects)}\")"
   ],
   "metadata": {
    "collapsed": false,
    "pycharm": {
     "name": "#%%\n"
    }
   }
  },
  {
   "cell_type": "markdown",
   "source": [
    "The 3D BAG contains the building footprints as LoD0 models. These models have the type\n",
    "`Building`, instead of the `BuildingPart`-s that store the 3D models. Using these\n",
    "footprints, we can intersect with our AOI to create our final subset. Shapely helps\n",
    "with calculating the intersection.\n",
    "\n",
    "The LoD0 models (footprints) are stored as `MultiSurface` in the CityJSON, so we need\n",
    "to extract the ring from within the multisurface to be able to create a Shapely Polygon."
   ],
   "metadata": {
    "collapsed": false,
    "pycharm": {
     "name": "#%% md\n"
    }
   }
  },
  {
   "cell_type": "code",
   "execution_count": 11,
   "outputs": [],
   "source": [
    "aoi_cm = cityjson.CityJSON()\n",
    "\n",
    "buildings = cm.get_cityobjects(type=\"building\")\n",
    "for co_id, co in buildings.items():\n",
    "    for geom in co.geometry:\n",
    "        if str(geom.lod) == \"0\":\n",
    "            fp_poly = unary_union([ShapelyPolygon(ring)\n",
    "                                   for surface in geom.boundaries\n",
    "                                   for ring in surface])\n",
    "            if fp_poly.intersects(aoi_poly):\n",
    "                aoi_cm.set_cityobjects({co_id: co})\n",
    "                # also add its children\n",
    "                if len(co.children) > 0:\n",
    "                    ch = cm.get_cityobjects(id=co.children)\n",
    "                    aoi_cm.set_cityobjects(ch)"
   ],
   "metadata": {
    "collapsed": false,
    "pycharm": {
     "name": "#%%\n"
    }
   }
  },
  {
   "cell_type": "markdown",
   "source": [
    "Since we created a complete new citymodel, it's good to update some of the metadata\n",
    "in the model.\n",
    "\n",
    "For this we need the CLI methods, and thus we need to update the `j` member on the\n",
    "citymodel."
   ],
   "metadata": {
    "collapsed": false,
    "pycharm": {
     "name": "#%% md\n"
    }
   }
  },
  {
   "cell_type": "code",
   "execution_count": 14,
   "outputs": [
    {
     "data": {
      "text/plain": "True"
     },
     "execution_count": 14,
     "metadata": {},
     "output_type": "execute_result"
    }
   ],
   "source": [
    "aoi_cm.add_to_j()\n",
    "\n",
    "aoi_cm.update_bbox()\n",
    "aoi_cm.set_epsg(7415)"
   ],
   "metadata": {
    "collapsed": false,
    "pycharm": {
     "name": "#%%\n"
    }
   }
  },
  {
   "cell_type": "code",
   "execution_count": 15,
   "outputs": [],
   "source": [
    "cityjson.save(aoi_cm, \"outfile.json\")"
   ],
   "metadata": {
    "collapsed": false,
    "pycharm": {
     "name": "#%%\n"
    }
   }
  },
  {
   "cell_type": "markdown",
   "source": [
    "## Explore further\n",
    "\n",
    "+ Instead of writing and reading from files, merge the downloaded citymodels in memory."
   ],
   "metadata": {
    "collapsed": false,
    "pycharm": {
     "name": "#%% md\n"
    }
   }
  }
 ],
 "metadata": {
  "kernelspec": {
   "display_name": "Python 3",
   "language": "python",
   "name": "python3"
  },
  "language_info": {
   "codemirror_mode": {
    "name": "ipython",
    "version": 2
   },
   "file_extension": ".py",
   "mimetype": "text/x-python",
   "name": "python",
   "nbconvert_exporter": "python",
   "pygments_lexer": "ipython2",
   "version": "2.7.6"
  }
 },
 "nbformat": 4,
 "nbformat_minor": 0
}
