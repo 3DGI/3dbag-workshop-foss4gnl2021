{
 "cells": [
  {
   "cell_type": "markdown",
   "source": [
    "# Assign addresses to the 3D BAG models\n",
    "\n",
    "In this tutorial we query the BAG API to get the address information for each building model, and assign the addresses to the models.\n",
    "\n",
    "For this we work the [BAG APIv2](https://www.kadaster.nl/zakelijk/producten/adressen-en-gebouwen/bag-api-individuele-bevragingen).\n",
    "In order to access the BAG API, you need to [request an API Key](https://formulieren.kadaster.nl/aanvraag_bag_api_individuele_bevragingen_productie).\n",
    "The [BAG API is documentation](https://lvbag.github.io/BAG-API/Technische%20specificatie/) gives the details on the available endpoints.\n",
    "More information can be found in the [GitHub repo of the API](https://github.com/lvbag/BAG-API).\n",
    "The [official BAG data catalogue](https://www.geobasisregistraties.nl/documenten/publicatie/2018/03/12/catalogus-2018) has all the details about the BAG."
   ],
   "metadata": {
    "collapsed": false,
    "pycharm": {
     "name": "#%% md\n"
    }
   }
  },
  {
   "cell_type": "code",
   "execution_count": 1,
   "metadata": {
    "collapsed": true
   },
   "outputs": [],
   "source": [
    "import os\n",
    "from pathlib import Path\n",
    "import json\n",
    "import requests\n",
    "from cjio import cityjson"
   ]
  },
  {
   "cell_type": "code",
   "execution_count": 2,
   "outputs": [],
   "source": [
    "with Path(\".env\").resolve().open(\"r\") as fo:\n",
    "    env_vars = fo.readlines()\n",
    "for var in env_vars:\n",
    "    key, value = var.split('=')\n",
    "    os.environ[key] = value\n",
    "\n",
    "BAG_API = \"https://api.bag.acceptatie.kadaster.nl/lvbag/individuelebevragingen/v2\"\n",
    "headers = {\"Accept\": \"application/hal+json\",\n",
    "           \"X-Api-Key\": os.environ.get(\"BAG_API_KEY\")}"
   ],
   "metadata": {
    "collapsed": false,
    "pycharm": {
     "name": "#%%\n"
    }
   }
  },
  {
   "cell_type": "markdown",
   "source": [
    "Open a session with the API key in the header, so that we can use it for the rest of the queries."
   ],
   "metadata": {
    "collapsed": false,
    "pycharm": {
     "name": "#%% md\n"
    }
   }
  },
  {
   "cell_type": "code",
   "execution_count": 3,
   "outputs": [],
   "source": [
    "s = requests.Session()\n",
    "s.headers.update(headers)"
   ],
   "metadata": {
    "collapsed": false,
    "pycharm": {
     "name": "#%%\n"
    }
   }
  },
  {
   "cell_type": "markdown",
   "source": [
    "Query a municipality just to test that the API works."
   ],
   "metadata": {
    "collapsed": false,
    "pycharm": {
     "name": "#%% md\n"
    }
   }
  },
  {
   "cell_type": "code",
   "execution_count": 4,
   "outputs": [
    {
     "name": "stdout",
     "output_type": "stream",
     "text": [
      "0518 's-Gravenhage Zuid-Holland\n"
     ]
    }
   ],
   "source": [
    "municipality_id = \"0518\"\n",
    "res = s.get(f\"{BAG_API}/bronhouders/{municipality_id}\").json()\n",
    "print(res[\"bronhouder\"][\"code\"], res[\"bronhouder\"][\"naam\"], res[\"bronhouder\"][\"provincie\"][\"naam\"])"
   ],
   "metadata": {
    "collapsed": false,
    "pycharm": {
     "name": "#%%\n"
    }
   }
  },
  {
   "cell_type": "markdown",
   "source": [
    "We load a citymodel from the 3D BAG, and isolate one building."
   ],
   "metadata": {
    "collapsed": false,
    "pycharm": {
     "name": "#%% md\n"
    }
   }
  },
  {
   "cell_type": "code",
   "execution_count": 5,
   "outputs": [
    {
     "name": "stdout",
     "output_type": "stream",
     "text": [
      "The CityObject NL.IMBAG.Pand.0518100000285075 of type Building has 1 children.\n",
      "They are: ['NL.IMBAG.Pand.0518100000285075-0'], of type BuildingPart\n"
     ]
    }
   ],
   "source": [
    "cm_path = (Path(\"data\") / \"sample.json\").resolve()\n",
    "cm = cityjson.load(cm_path, transform=True)\n",
    "cos = cm.get_cityobjects(id=\"NL.IMBAG.Pand.0518100000285075\")\n",
    "one = cos[\"NL.IMBAG.Pand.0518100000285075\"]\n",
    "\n",
    "one_children = cm.get_cityobjects(id=one.children)\n",
    "print(f\"The CityObject {one.id} of type {one.type} has {len(one.children)} children.\\n\"\n",
    "      f\"They are: {one.children}, of type {list(one_children.values())[0].type}\")\n",
    "one_bpart = one_children[\"NL.IMBAG.Pand.0518100000285075-0\"]"
   ],
   "metadata": {
    "collapsed": false,
    "pycharm": {
     "name": "#%%\n"
    }
   }
  },
  {
   "cell_type": "markdown",
   "source": [
    "Get the addresses within a CityObject. For this, we need to parse the CityObject ID into a BAG Pand ID, so that we can query the API with the Pand ID.\n",
    "\n",
    "The CityObject ID is built up like this:\n",
    "\n",
    "`namespace` . `object type` . `object ID` - `object part ID`\n",
    "\n",
    "Where `namespace` is always `NL.IMBAG`, `object type` is always `Pand`, the `object ID` is the BAG Pand ID, the `object part ID` is a sequential ID for building parts."
   ],
   "metadata": {
    "collapsed": false,
    "pycharm": {
     "name": "#%% md\n"
    }
   }
  },
  {
   "cell_type": "code",
   "execution_count": 6,
   "outputs": [],
   "source": [
    "co_id = one.id\n",
    "pand_id = co_id.replace(\"NL.IMBAG.Pand.\", \"\").rsplit(\"-\")[0]"
   ],
   "metadata": {
    "collapsed": false,
    "pycharm": {
     "name": "#%%\n"
    }
   }
  },
  {
   "cell_type": "markdown",
   "source": [
    "There can be multiple addresses within one building, so we collect them and assign\n",
    "them to the BuildingPart."
   ],
   "metadata": {
    "collapsed": false,
    "pycharm": {
     "name": "#%% md\n"
    }
   }
  },
  {
   "cell_type": "code",
   "execution_count": 7,
   "outputs": [
    {
     "name": "stdout",
     "output_type": "stream",
     "text": [
      "C.A. van Beverenplein 3, 2552HT 's-Gravenhage\n",
      "C.A. van Beverenplein 4, 2552HT 's-Gravenhage\n",
      "C.A. van Beverenplein 5, 2552HT 's-Gravenhage\n",
      "C.A. van Beverenplein 6, 2552HT 's-Gravenhage\n",
      "C.A. van Beverenplein 7, 2552HT 's-Gravenhage\n"
     ]
    }
   ],
   "source": [
    "addresses = {}\n",
    "res = s.get(f\"{BAG_API}/adressen\", params={\"pandIdentificatie\": pand_id}).json()\n",
    "for i, a in enumerate(res[\"_embedded\"][\"adressen\"]):\n",
    "    print(f'{a[\"openbareRuimteNaam\"]} {a[\"huisnummer\"]}, {a[\"postcode\"]} {a[\"woonplaatsNaam\"]}')\n",
    "    addresses[i] = {\n",
    "        \"openbareRuimteNaam\": a[\"openbareRuimteNaam\"],\n",
    "        \"huisnummer\": a[\"huisnummer\"],\n",
    "        \"postcode\": a[\"postcode\"],\n",
    "        \"woonplaatsNaam\": a[\"woonplaatsNaam\"]\n",
    "    }"
   ],
   "metadata": {
    "collapsed": false,
    "pycharm": {
     "name": "#%%\n"
    }
   }
  },
  {
   "cell_type": "markdown",
   "source": [
    "In the 3D BAG the parent Building objects represent the BAG objects and the Building-s\n",
    "store all the attributes that are true for the sholw BAG object. Therefore, we also put\n",
    "the addresses on the Building."
   ],
   "metadata": {
    "collapsed": false,
    "pycharm": {
     "name": "#%% md\n"
    }
   }
  },
  {
   "cell_type": "markdown",
   "source": [
    "---\n",
    "\n",
    "**Note:**\n",
    "\n",
    "The address definition for CityObjects as we did here is strictly speaking not valid\n",
    "according to the CityJSON specificaton. CityJSON only allows a single address per\n",
    "Building(Part), and we used the fields (huisnummer, postcode etc.) from the BAG,\n",
    "instead the fields prescribed by the [xAL address standard](http://xml.coverpages.org/xnal.html). See the [CityJSON specs for details](https://www.cityjson.org/specs/1.0.3/#building).\n",
    "\n",
    "However, it is likely that the address definition will change in CityJSON\n",
    "(see [this issue](https://github.com/cityjson/specs/issues/51)), and using the Dutch\n",
    "standard address definition for a Dutch data set like the 3D BAG is sensible.\n",
    "\n",
    "---"
   ],
   "metadata": {
    "collapsed": false,
    "pycharm": {
     "name": "#%% md\n"
    }
   }
  },
  {
   "cell_type": "code",
   "execution_count": 8,
   "outputs": [],
   "source": [
    "one.address = addresses"
   ],
   "metadata": {
    "collapsed": false,
    "pycharm": {
     "name": "#%%\n"
    }
   }
  },
  {
   "cell_type": "markdown",
   "source": [
    "If you stay in python and don't need to write out the CityObjects with addresses to a\n",
    "CityJSON file, then that's it, we are done."
   ],
   "metadata": {
    "collapsed": false,
    "pycharm": {
     "name": "#%% md\n"
    }
   }
  },
  {
   "cell_type": "markdown",
   "source": [
    "If you need to write a CityJSON file with the addresses, the addresses need to be\n",
    "added manually to the json. This is, because the cjio API currently doesn't support\n",
    "properties that are specific to a certain CityObject type. Such as the `address` is\n",
    "specific to the `Building` and `BuildingPart` CityObject types.\n",
    "\n",
    "This means that we won't use the `cityjson.save()` method, but need to do the steps\n",
    "by hand."
   ],
   "metadata": {
    "collapsed": false,
    "pycharm": {
     "name": "#%% md\n"
    }
   }
  },
  {
   "cell_type": "markdown",
   "source": [
    "First convert the geometry and other data back to the schema that will be written to\n",
    "the json file. Also take care to remove the duplicate and orphan vertices from the\n",
    "geometries, so that we can get a leaner file."
   ],
   "metadata": {
    "collapsed": false,
    "pycharm": {
     "name": "#%% md\n"
    }
   }
  },
  {
   "cell_type": "code",
   "execution_count": 9,
   "outputs": [
    {
     "data": {
      "text/plain": "0"
     },
     "execution_count": 9,
     "metadata": {},
     "output_type": "execute_result"
    }
   ],
   "source": [
    "# Note the 'j' in the method's name add_to_j()\n",
    "cm.add_to_j()\n",
    "\n",
    "cm.remove_duplicate_vertices()\n",
    "cm.remove_orphan_vertices()"
   ],
   "metadata": {
    "collapsed": false,
    "pycharm": {
     "name": "#%%\n"
    }
   }
  },
  {
   "cell_type": "markdown",
   "source": [
    "Then add the addresses to the objects which contain them. Since we dereferenced the\n",
    "geometries and used the method `add_to_j`, all the cityobject data is stored with the\n",
    "CityJSON schema on the `j` attribute of the citymodel. Thus, we need to add the\n",
    "addresses directly to the schema in the `j` attribute."
   ],
   "metadata": {
    "collapsed": false,
    "pycharm": {
     "name": "#%% md\n"
    }
   }
  },
  {
   "cell_type": "code",
   "execution_count": 10,
   "outputs": [],
   "source": [
    "for co_id, co in cm.cityobjects.items():\n",
    "    if hasattr(co, \"address\"):\n",
    "        cm.j[\"CityObjects\"][co_id][\"address\"] = co.address"
   ],
   "metadata": {
    "collapsed": false,
    "pycharm": {
     "name": "#%%\n"
    }
   }
  },
  {
   "cell_type": "markdown",
   "source": [
    "Write the contents from `j` to file, which will give us a CityJSON file."
   ],
   "metadata": {
    "collapsed": false,
    "pycharm": {
     "name": "#%% md\n"
    }
   }
  },
  {
   "cell_type": "code",
   "execution_count": 11,
   "outputs": [],
   "source": [
    "with Path(\"outfile.json\").open(\"w\") as fout:\n",
    "    json_str = json.dumps(cm.j, separators=(',',':'))\n",
    "    fout.write(json_str)"
   ],
   "metadata": {
    "collapsed": false,
    "pycharm": {
     "name": "#%%\n"
    }
   }
  },
  {
   "cell_type": "markdown",
   "source": [
    "Close the session when done."
   ],
   "metadata": {
    "collapsed": false,
    "pycharm": {
     "name": "#%% md\n"
    }
   }
  },
  {
   "cell_type": "code",
   "execution_count": 12,
   "outputs": [],
   "source": [
    "s.close()"
   ],
   "metadata": {
    "collapsed": false,
    "pycharm": {
     "name": "#%%\n"
    }
   }
  },
  {
   "cell_type": "markdown",
   "source": [
    "## Explore further\n",
    "In this tutorial we assigned the addresses to the building models based on their ID.\n",
    "However, some large buildings are split up into multiple parts in the 3D BAG.\n",
    "Each part has the same Pand ID in the BAG, because they are modelled with a single polygon.\n",
    "Thus, these parts get all the same addresses from the Pand.\n",
    "It would be better to match the address points to the corresponding building parts."
   ],
   "metadata": {
    "collapsed": false
   }
  }
 ],
 "metadata": {
  "kernelspec": {
   "display_name": "Python 3",
   "language": "python",
   "name": "python3"
  },
  "language_info": {
   "codemirror_mode": {
    "name": "ipython",
    "version": 2
   },
   "file_extension": ".py",
   "mimetype": "text/x-python",
   "name": "python",
   "nbconvert_exporter": "python",
   "pygments_lexer": "ipython2",
   "version": "2.7.6"
  }
 },
 "nbformat": 4,
 "nbformat_minor": 0
}